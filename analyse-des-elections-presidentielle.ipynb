{
 "cells": [
  {
   "cell_type": "code",
   "execution_count": null,
   "metadata": {},
   "outputs": [],
   "source": [
    "import pandas as pd\n",
    "\n",
    "# Chemin vers le fichier CSV\n",
    "file_path = r\"C:\\Users\\cound\\OneDrive\\Desktop\\EIDF\\analyse-election-presidentielle-2022-france\\elections-france-presidentielles-2022-1er-tour-par-bureau-de-vote-idf.csv\"\n",
    "\n",
    "# Charger le fichier CSV dans un DataFrame\n",
    "data = pd.read_csv(file_path, encoding='utf-8')\n",
    "\n",
    "# Modifier les paramètres d'affichage pour afficher toutes les lignes\n",
    "pd.set_option('display.max_rows', None)  # Affiche toutes les lignes\n",
    "pd.set_option('display.max_columns', None)  # Facultatif : pour afficher toutes les colonnes\n",
    "\n",
    "# Afficher toutes les lignes du DataFrame\n",
    "print(data)\n"
   ]
  }
 ],
 "metadata": {
  "kernelspec": {
   "display_name": "base",
   "language": "python",
   "name": "python3"
  },
  "language_info": {
   "codemirror_mode": {
    "name": "ipython",
    "version": 3
   },
   "file_extension": ".py",
   "mimetype": "text/x-python",
   "name": "python",
   "nbconvert_exporter": "python",
   "pygments_lexer": "ipython3",
   "version": "3.11.4"
  }
 },
 "nbformat": 4,
 "nbformat_minor": 2
}
